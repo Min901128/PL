{
 "cells": [
  {
   "cell_type": "code",
   "execution_count": 19,
   "id": "5acd76df",
   "metadata": {},
   "outputs": [
    {
     "name": "stdout",
     "output_type": "stream",
     "text": [
      "夜市1的攤販有: {'王大叔水果攤', '小李烤玉米', '阿財滷味', '阿強炸雞排', '阿姨鹹粥', '小明炒麵', '阿婆豆花'}\n",
      "夜市2的攤販有: {'王大叔水果攤', '小李烤玉米', '阿財滷味', '阿強炸雞排', '林師傅烤肉串', '阿姨鹹粥', '小明炒麵', '阿婆豆花', '王媽媽烤香腸', '小張炸雞排'}\n",
      "同時在兩個夜市的攤販有: {'阿姨鹹粥', '王大叔水果攤', '阿婆豆花', '小明炒麵', '小李烤玉米', '阿財滷味', '阿強炸雞排'}\n"
     ]
    }
   ],
   "source": [
    "import pandas as pd\n",
    "\n",
    "# 設定 CSV 檔案的路徑\n",
    "csv_file_path_NM1 = 'NightMarket01.csv'\n",
    "csv_file_path_NM2 = 'NightMarket02.csv'\n",
    "\n",
    "\n",
    "\n",
    "# 使用 pandas 的 read_csv 函式讀取 CSV 檔案並將其轉換為 DataFrame\n",
    "df_NM1 = pd.read_csv(csv_file_path_NM1)\n",
    "df_NM2 = pd.read_csv(csv_file_path_NM2)\n",
    "\n",
    "# 從 DataFrame 中取出學生名稱欄位，假設欄位名稱為 '學生名稱'，你可以根據實際情況調整\n",
    "VenderName_NM1 = df_NM1['攤販名稱']\n",
    "VenderName_NM2 = df_NM2['攤販名稱']\n",
    "\n",
    "\n",
    "# 將學生名稱轉換為 set 資料型態\n",
    "VenderName_NM1_set = set(VenderName_NM1)\n",
    "VenderName_NM2_set = set(VenderName_NM2)\n",
    "\n",
    "print(\"夜市1的攤販有:\",VenderName_NM1_set)\n",
    "print(\"夜市2的攤販有:\",VenderName_NM2_set)\n",
    "\n",
    "print(\"同時在兩個夜市的攤販有:\",VenderName_NM1_set & VenderName_NM1_set)\n",
    "\n",
    "#同時選了PECU的程式語言和網際網路概論的學生是哪幾位\n",
    "#print( student_names_PL_set & student_names_WEB_set )"
   ]
  },
  {
   "cell_type": "code",
   "execution_count": null,
   "id": "813a9f68",
   "metadata": {},
   "outputs": [],
   "source": []
  }
 ],
 "metadata": {
  "kernelspec": {
   "display_name": "Python 3 (ipykernel)",
   "language": "python",
   "name": "python3"
  },
  "language_info": {
   "codemirror_mode": {
    "name": "ipython",
    "version": 3
   },
   "file_extension": ".py",
   "mimetype": "text/x-python",
   "name": "python",
   "nbconvert_exporter": "python",
   "pygments_lexer": "ipython3",
   "version": "3.11.4"
  }
 },
 "nbformat": 4,
 "nbformat_minor": 5
}
