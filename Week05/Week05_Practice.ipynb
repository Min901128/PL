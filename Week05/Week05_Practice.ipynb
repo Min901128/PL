{
 "cells": [
  {
   "cell_type": "code",
   "execution_count": 1,
   "id": "8cc71d42",
   "metadata": {},
   "outputs": [],
   "source": [
    "import json"
   ]
  },
  {
   "cell_type": "code",
   "execution_count": 2,
   "id": "ad6a4052",
   "metadata": {},
   "outputs": [
    {
     "data": {
      "text/plain": [
       "dict"
      ]
     },
     "execution_count": 2,
     "metadata": {},
     "output_type": "execute_result"
    }
   ],
   "source": [
    "test = open('測試1.json',encoding=\"utf8\")\n",
    "Data = json.load(test)\n",
    "type(Data)"
   ]
  },
  {
   "cell_type": "code",
   "execution_count": 3,
   "id": "82746ca3",
   "metadata": {},
   "outputs": [
    {
     "data": {
      "text/plain": [
       "dict_items([('Member', [{'Name': 'A', 'Class': 1, 'Chinese': 90, 'English': 80}, {'Name': 'B', 'Class': 2, 'Chinese': 80, 'English': 85}, {'Name': 'C', 'Class': 3, 'Chinese': 70, 'English': 60}])])"
      ]
     },
     "execution_count": 3,
     "metadata": {},
     "output_type": "execute_result"
    }
   ],
   "source": [
    "Data.items()"
   ]
  },
  {
   "cell_type": "code",
   "execution_count": 4,
   "id": "49e11476",
   "metadata": {},
   "outputs": [
    {
     "data": {
      "text/plain": [
       "[{'Name': 'A', 'Class': 1, 'Chinese': 90, 'English': 80},\n",
       " {'Name': 'B', 'Class': 2, 'Chinese': 80, 'English': 85},\n",
       " {'Name': 'C', 'Class': 3, 'Chinese': 70, 'English': 60}]"
      ]
     },
     "execution_count": 4,
     "metadata": {},
     "output_type": "execute_result"
    }
   ],
   "source": [
    "temp = Data.get('Member')\n",
    "temp"
   ]
  },
  {
   "cell_type": "code",
   "execution_count": 5,
   "id": "2aece74d",
   "metadata": {},
   "outputs": [],
   "source": [
    "#查詢B的英文成績\n",
    "ask = \"B\""
   ]
  },
  {
   "cell_type": "code",
   "execution_count": 6,
   "id": "13e033c7",
   "metadata": {},
   "outputs": [
    {
     "name": "stdout",
     "output_type": "stream",
     "text": [
      "B 的英文成績為 85 分\n"
     ]
    }
   ],
   "source": [
    "for i in temp:\n",
    "    if ask == i.get('Name'):\n",
    "        print(ask, '的英文成績為', i.get('English'), '分')    "
   ]
  },
  {
   "cell_type": "code",
   "execution_count": 7,
   "id": "591e38e8",
   "metadata": {},
   "outputs": [
    {
     "data": {
      "text/plain": [
       "[90, 80, 70]"
      ]
     },
     "execution_count": 7,
     "metadata": {},
     "output_type": "execute_result"
    }
   ],
   "source": [
    "#國文成績排序\n",
    "allGrade = []\n",
    "for i in temp:\n",
    "    allGrade.append(i.get('Chinese'))\n",
    "allGrade"
   ]
  },
  {
   "cell_type": "code",
   "execution_count": 8,
   "id": "d0847b6a",
   "metadata": {},
   "outputs": [],
   "source": [
    "allGrade_enumerate = enumerate(allGrade, start = 1)"
   ]
  },
  {
   "cell_type": "code",
   "execution_count": 9,
   "id": "a75a3bcf",
   "metadata": {},
   "outputs": [
    {
     "data": {
      "text/plain": [
       "[(1, 90), (2, 80), (3, 70)]"
      ]
     },
     "execution_count": 9,
     "metadata": {},
     "output_type": "execute_result"
    }
   ],
   "source": [
    "allGrade_enumerate_sorted = sorted(allGrade_enumerate, key = lambda s: s[1], reverse = True)\n",
    "allGrade_enumerate_sorted"
   ]
  },
  {
   "cell_type": "code",
   "execution_count": 14,
   "id": "9c2eb55f",
   "metadata": {},
   "outputs": [
    {
     "data": {
      "text/plain": [
       "1"
      ]
     },
     "execution_count": 14,
     "metadata": {},
     "output_type": "execute_result"
    }
   ],
   "source": [
    "allGrade_enumerate_sorted[0][0]"
   ]
  },
  {
   "cell_type": "code",
   "execution_count": 16,
   "id": "3a236d65",
   "metadata": {},
   "outputs": [
    {
     "name": "stdout",
     "output_type": "stream",
     "text": [
      "A 的英文成績為 90 分\n",
      "B 的英文成績為 80 分\n",
      "C 的英文成績為 70 分\n"
     ]
    }
   ],
   "source": [
    "# 印出排序過後的名字與國文成績\n",
    "for i in allGrade_enumerate_sorted:\n",
    "    j = i[0] - 1\n",
    "    print(temp[j].get('Name'), '的英文成績為', temp[j].get('Chinese'), '分')"
   ]
  },
  {
   "cell_type": "code",
   "execution_count": null,
   "id": "f69b4862",
   "metadata": {},
   "outputs": [],
   "source": []
  }
 ],
 "metadata": {
  "kernelspec": {
   "display_name": "Python 3 (ipykernel)",
   "language": "python",
   "name": "python3"
  },
  "language_info": {
   "codemirror_mode": {
    "name": "ipython",
    "version": 3
   },
   "file_extension": ".py",
   "mimetype": "text/x-python",
   "name": "python",
   "nbconvert_exporter": "python",
   "pygments_lexer": "ipython3",
   "version": "3.11.4"
  }
 },
 "nbformat": 4,
 "nbformat_minor": 5
}
