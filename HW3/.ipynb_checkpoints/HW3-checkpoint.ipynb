{
 "cells": [
  {
   "cell_type": "code",
   "execution_count": 1,
   "id": "9785dd1f",
   "metadata": {},
   "outputs": [],
   "source": [
    "import requests\n",
    "from bs4 import BeautifulSoup\n",
    "import csv\n",
    "import json"
   ]
  },
  {
   "cell_type": "code",
   "execution_count": 2,
   "id": "96b29211",
   "metadata": {},
   "outputs": [],
   "source": [
    "# 定義 PTT superbike 版的網址\n",
    "url = 'https://www.ptt.cc/bbs/SuperBike/index.html'\n",
    "\n",
    "# 設定爬取的頁數\n",
    "pages_to_crawl = 20\n",
    "\n",
    "# 創建一个空列表来儲存文章資料\n",
    "articles_list = []\n",
    "\n",
    "#要搜尋的關鍵字\n",
    "keywords = [\"Yamaha\", \"YAMAHA\", \"yamaha\"]"
   ]
  },
  {
   "cell_type": "code",
   "execution_count": 3,
   "id": "65b4e290",
   "metadata": {},
   "outputs": [
    {
     "data": {
      "text/plain": [
       "<Response [200]>"
      ]
     },
     "execution_count": 3,
     "metadata": {},
     "output_type": "execute_result"
    }
   ],
   "source": [
    "# 使用 requests 取得網頁內容\n",
    "response = requests.get(url)\n",
    "response"
   ]
  },
  {
   "cell_type": "code",
   "execution_count": 4,
   "id": "8f5b52f4",
   "metadata": {},
   "outputs": [],
   "source": [
    "# 創建一個Session來處理Cookies\n",
    "session = requests.Session()\n",
    "\n",
    "# 添加\"Over18\"的Cookie\n",
    "over18_cookie = {'over18': '1'}\n",
    "session.cookies.update(over18_cookie)"
   ]
  },
  {
   "cell_type": "code",
   "execution_count": 5,
   "id": "3cb76a45",
   "metadata": {},
   "outputs": [
    {
     "name": "stdout",
     "output_type": "stream",
     "text": [
      "標題: [閒聊] 2024 YAMAHA MT09改款\n",
      "日期: 10/31\n",
      "連結: https://www.ptt.cc/bbs/SuperBike/M.1698761537.A.EB2.html\n",
      "標題: [情報] Yamaha XSR900 GP\n",
      "日期: 10/24\n",
      "連結: https://www.ptt.cc/bbs/SuperBike/M.1698162829.A.261.html\n",
      "標題: [買賣] 2020 YAMAHA YZF-R6(售出）\n",
      "日期: 10/02\n",
      "連結: https://www.ptt.cc/bbs/SuperBike/M.1696183369.A.A5B.html\n",
      "標題: [問題] Yamaha life app保養記錄\n",
      "日期: 9/28\n",
      "連結: https://www.ptt.cc/bbs/SuperBike/M.1695877836.A.445.html\n",
      "標題: [問題] Yamaha XSR900 載人？\n",
      "日期: 9/23\n",
      "連結: https://www.ptt.cc/bbs/SuperBike/M.1695479350.A.E45.html\n",
      "標題: [買賣] 2022 YAMAHA MT09SP\n",
      "日期: 9/06\n",
      "連結: https://www.ptt.cc/bbs/SuperBike/M.1693976876.A.AAD.html\n",
      "標題: [心得] Yamaha YZF-R7心得\n",
      "日期: 8/09\n",
      "連結: https://www.ptt.cc/bbs/SuperBike/M.1691568825.A.762.html\n"
     ]
    }
   ],
   "source": [
    "for i in range(pages_to_crawl):\n",
    "    # 使用 requests 取得網頁內容\n",
    "    response = session.get(url)\n",
    "    \n",
    "    # 檢查是否成功取得網頁內容\n",
    "    if response.status_code != 200:\n",
    "        print(f'無法取得頁面 {url}')\n",
    "        break\n",
    "\n",
    "    # 使用 BeautifulSoup 解析網頁內容\n",
    "    soup = BeautifulSoup(response.text, 'html.parser')\n",
    "\n",
    "    # 找出文章標題和連結\n",
    "    articles = soup.find_all('div', class_='r-ent')\n",
    "    for article in articles:\n",
    "        title = article.find('div', class_='title').text.strip()\n",
    "        \n",
    "        # 檢查文章內容是否包含\"刪除\"或其他被刪除的關鍵字\n",
    "        if \"刪除\" in title:\n",
    "            continue  # 跳過已刪除的文章\n",
    "         \n",
    "        # 檢查文章内容是否包含\"Honda\"的關鍵字\n",
    "        if any(keyword in title.lower() for keyword in keywords):\n",
    "            article_link = article.find('a')['href']\n",
    "            date = article.find('div', class_='date').text.strip()\n",
    "            \n",
    "            # 將文章資料存為字典\n",
    "            article_info = {\n",
    "                '標題': title,\n",
    "                '日期': date,\n",
    "                '連結': f'https://www.ptt.cc{article_link}'\n",
    "            }\n",
    "            articles_list.append(article_info)\n",
    "            print(f'標題: {title}')\n",
    "            print(f'日期: {date}')\n",
    "            print(f'連結: https://www.ptt.cc{article_link}')\n",
    "        \n",
    "    # 找出前一頁的連結\n",
    "    previous_page = soup.find('div', class_='btn-group-paging').find_all('a')[1]['href']\n",
    "    url = 'https://www.ptt.cc' + previous_page"
   ]
  },
  {
   "cell_type": "code",
   "execution_count": 6,
   "id": "99ffd77a",
   "metadata": {},
   "outputs": [],
   "source": [
    "# 將資料寫入CSV文件\n",
    "with open('重機版爬蟲.csv', 'w', newline='', encoding='utf-8-sig') as csvfile:\n",
    "    fieldnames = ['標題', '日期', '連結']\n",
    "    writer = csv.DictWriter(csvfile, fieldnames=fieldnames)\n",
    "    \n",
    "    writer.writeheader()\n",
    "    for article_info in articles_list:\n",
    "        writer.writerow(article_info)"
   ]
  },
  {
   "cell_type": "code",
   "execution_count": 7,
   "id": "4ac6276c",
   "metadata": {},
   "outputs": [],
   "source": [
    "# 將資料寫入JSON文件\n",
    "with open('重機版爬蟲.json', 'w', encoding='utf-8') as jsonfile:\n",
    "    json.dump(articles_list, jsonfile, ensure_ascii=False, indent=4)"
   ]
  },
  {
   "cell_type": "code",
   "execution_count": null,
   "id": "e63deb99",
   "metadata": {},
   "outputs": [],
   "source": []
  }
 ],
 "metadata": {
  "kernelspec": {
   "display_name": "Python 3 (ipykernel)",
   "language": "python",
   "name": "python3"
  },
  "language_info": {
   "codemirror_mode": {
    "name": "ipython",
    "version": 3
   },
   "file_extension": ".py",
   "mimetype": "text/x-python",
   "name": "python",
   "nbconvert_exporter": "python",
   "pygments_lexer": "ipython3",
   "version": "3.11.4"
  }
 },
 "nbformat": 4,
 "nbformat_minor": 5
}
